{
  "nbformat": 4,
  "nbformat_minor": 0,
  "metadata": {
    "colab": {
      "provenance": [],
      "authorship_tag": "ABX9TyMxxNyykgr1VKFm7Hx5CZZR",
      "include_colab_link": true
    },
    "kernelspec": {
      "name": "python3",
      "display_name": "Python 3"
    },
    "language_info": {
      "name": "python"
    }
  },
  "cells": [
    {
      "cell_type": "markdown",
      "metadata": {
        "id": "view-in-github",
        "colab_type": "text"
      },
      "source": [
        "<a href=\"https://colab.research.google.com/github/serahnjogu/Analyzing-web-data-using-SQL/blob/main/intro_to_python.ipynb\" target=\"_parent\"><img src=\"https://colab.research.google.com/assets/colab-badge.svg\" alt=\"Open In Colab\"/></a>"
      ]
    },
    {
      "cell_type": "code",
      "execution_count": 2,
      "metadata": {
        "colab": {
          "base_uri": "https://localhost:8080/"
        },
        "id": "N88NSEosmwcj",
        "outputId": "8a7cd2cd-553d-4a58-8b16-6de0637a22f7"
      },
      "outputs": [
        {
          "output_type": "stream",
          "name": "stdout",
          "text": [
            "5\n"
          ]
        }
      ],
      "source": [
        "x=[1,2,3,4,5]\n",
        "print(len(x))"
      ]
    },
    {
      "cell_type": "code",
      "source": [
        "thisdict={\n",
        "    \"brand\": \"Mercedes\",\n",
        "    \"Model\": \"GLE 400D\",\n",
        "    \"year\":\"2025\"\n",
        "}\n",
        "print(thisdict)\n"
      ],
      "metadata": {
        "colab": {
          "base_uri": "https://localhost:8080/"
        },
        "id": "-pVpBq2Ix_ck",
        "outputId": "9e939115-5deb-4c66-a6f6-95f2db05fcf2"
      },
      "execution_count": 4,
      "outputs": [
        {
          "output_type": "stream",
          "name": "stdout",
          "text": [
            "{'brand': 'Mercedes', 'Model': 'GLE 400D', 'year': '2025'}\n"
          ]
        }
      ]
    },
    {
      "cell_type": "code",
      "source": [
        "car={\n",
        "    \"Brand\": \"Ford\",\n",
        "    \"model\":\"Mustang\",\n",
        "    \"year\": \"1948\",\n",
        "    \"color\":['red','blue','pink']\n",
        "\n",
        "}\n",
        "x= car.keys()\n",
        "\n",
        "#car[\"color\"]= \"white\"\n",
        "print(x)\n",
        "print((car['color'][0]))"
      ],
      "metadata": {
        "colab": {
          "base_uri": "https://localhost:8080/"
        },
        "id": "kq4Jw3rk1Adx",
        "outputId": "11848336-f402-4476-d54c-8872719801e2"
      },
      "execution_count": 18,
      "outputs": [
        {
          "output_type": "stream",
          "name": "stdout",
          "text": [
            "dict_keys(['Brand', 'model', 'year', 'color'])\n",
            "red\n"
          ]
        }
      ]
    },
    {
      "cell_type": "code",
      "source": [
        "name=['Lyza','Simuyu','Watende','wambui','eric']\n",
        "print(name[3])\n",
        "print(name[-1])\n",
        "print(name[1:])\n",
        "name.append(['elly','njogu'])\n",
        "print(name)\n"
      ],
      "metadata": {
        "colab": {
          "base_uri": "https://localhost:8080/"
        },
        "id": "dPlEWOoy1OXS",
        "outputId": "cb8a9d49-ac69-41ef-dbad-18dd13e52e4b"
      },
      "execution_count": 30,
      "outputs": [
        {
          "output_type": "stream",
          "name": "stdout",
          "text": [
            "wambui\n",
            "eric\n",
            "['Simuyu', 'Watende', 'wambui', 'eric']\n",
            "['Lyza', 'Simuyu', 'Watende', 'wambui', 'eric', ['elly', 'njogu']]\n"
          ]
        }
      ]
    },
    {
      "cell_type": "code",
      "source": [
        "name[1:3]"
      ],
      "metadata": {
        "colab": {
          "base_uri": "https://localhost:8080/"
        },
        "id": "UqV6AZJT6krz",
        "outputId": "42dbfda0-71a2-4f00-b857-740d19cdc72e"
      },
      "execution_count": 32,
      "outputs": [
        {
          "output_type": "execute_result",
          "data": {
            "text/plain": [
              "['Simuyu', 'Watende']"
            ]
          },
          "metadata": {},
          "execution_count": 32
        }
      ]
    },
    {
      "cell_type": "code",
      "source": [
        "name[4:6]"
      ],
      "metadata": {
        "colab": {
          "base_uri": "https://localhost:8080/"
        },
        "id": "GWuFf0ai5-ad",
        "outputId": "7ae91c6a-6906-4346-b50d-995daf694e52"
      },
      "execution_count": 35,
      "outputs": [
        {
          "output_type": "execute_result",
          "data": {
            "text/plain": [
              "['eric', ['elly', 'njogu']]"
            ]
          },
          "metadata": {},
          "execution_count": 35
        }
      ]
    },
    {
      "cell_type": "code",
      "source": [
        "name[-2:]"
      ],
      "metadata": {
        "colab": {
          "base_uri": "https://localhost:8080/"
        },
        "id": "GV6zbKlo7dEM",
        "outputId": "f6d698da-d2a4-4976-d571-780e691805ea"
      },
      "execution_count": 37,
      "outputs": [
        {
          "output_type": "execute_result",
          "data": {
            "text/plain": [
              "['eric', ['elly', 'njogu']]"
            ]
          },
          "metadata": {},
          "execution_count": 37
        }
      ]
    },
    {
      "cell_type": "code",
      "source": [
        "def add(a,b):\n",
        "  return a+b\n",
        "add(10,3)\n"
      ],
      "metadata": {
        "colab": {
          "base_uri": "https://localhost:8080/"
        },
        "id": "OTNqmKXb_gtU",
        "outputId": "44892842-4cdb-4e2e-bcaf-cd70c265391c"
      },
      "execution_count": 40,
      "outputs": [
        {
          "output_type": "execute_result",
          "data": {
            "text/plain": [
              "13"
            ]
          },
          "metadata": {},
          "execution_count": 40
        }
      ]
    },
    {
      "cell_type": "code",
      "source": [
        "def greetings():\n",
        "  print('hello lux!')\n",
        "\n",
        "greetings()"
      ],
      "metadata": {
        "colab": {
          "base_uri": "https://localhost:8080/"
        },
        "id": "nqaIdP4IAJXT",
        "outputId": "29edc136-e9c2-4432-ae00-cc38feb1fee7"
      },
      "execution_count": 42,
      "outputs": [
        {
          "output_type": "stream",
          "name": "stdout",
          "text": [
            "hello lux!\n"
          ]
        }
      ]
    },
    {
      "cell_type": "code",
      "source": [
        "a=10\n",
        "type(a)\n",
        "type(str(a))"
      ],
      "metadata": {
        "colab": {
          "base_uri": "https://localhost:8080/"
        },
        "id": "uAMr1JQECNeu",
        "outputId": "304e3475-3076-47ab-875b-bd66fbb98ff1"
      },
      "execution_count": 45,
      "outputs": [
        {
          "output_type": "execute_result",
          "data": {
            "text/plain": [
              "str"
            ]
          },
          "metadata": {},
          "execution_count": 45
        }
      ]
    },
    {
      "cell_type": "code",
      "source": [
        "name=input(\"enter name\")\n",
        "print(f\"my name is {name}\")"
      ],
      "metadata": {
        "colab": {
          "base_uri": "https://localhost:8080/"
        },
        "id": "Vk--e1KPChv7",
        "outputId": "4cc02876-ca4f-47b7-edb8-db1ffadc6913"
      },
      "execution_count": 49,
      "outputs": [
        {
          "output_type": "stream",
          "name": "stdout",
          "text": [
            "enter namesera\n",
            "my name is sera\n"
          ]
        }
      ]
    }
  ]
}